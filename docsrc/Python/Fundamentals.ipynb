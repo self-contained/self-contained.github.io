{
 "cells": [
  {
   "cell_type": "markdown",
   "metadata": {},
   "source": [
    "# Python 基础\n",
    "\n",
    "本节只介绍 Python 的基础语法，原则上不涉及任何库的使用。"
   ]
  },
  {
   "cell_type": "markdown",
   "metadata": {},
   "source": [
    "<div class=\"alert alert-info\">\n",
    "\n",
    "重要\n",
    "\n",
    "如果您有其他编程语言的学习经验，我强烈推荐您阅读上一章中的快速上手章节来快速了解 Python 语法特点。\n",
    "\n",
    "</div>"
   ]
  },
  {
   "cell_type": "markdown",
   "metadata": {},
   "source": [
    "## 引言：从数字运算熟悉语法\n",
    "\n",
    "Python 的基础语法非常简单，让我们先从数字开始吧。\n",
    "\n",
    "### 变量的使用\n",
    "\n",
    "Python 中的变量不需要声明类型，可以直接赋值使用。比如，我们现在记录两个数字到变量 `a` 与 `b`："
   ]
  },
  {
   "cell_type": "code",
   "execution_count": 1,
   "metadata": {},
   "outputs": [],
   "source": [
    "a = 5\n",
    "b = 2"
   ]
  },
  {
   "cell_type": "markdown",
   "metadata": {},
   "source": [
    "上面两行代码就创建了两个整型变量 `a` 与 `b`。一些注意点：\n",
    "\n",
    "- Python 的赋值符号是简单的等号 `=`，而不是 `:=` 之类的东西\n",
    "- 每一行是一条语句。语句末尾不需要 `;` 或任何断行标记\n",
    "- 行内的空格不是必需的，只是为了更好的可读性。你也可以把 `a = 5` 紧凑地写为 `a=5`\n",
    "- 行首不可以有空格，除非正使用代码块"
   ]
  },
  {
   "cell_type": "markdown",
   "metadata": {},
   "source": [
    "### 数字运算\n",
    "\n",
    "数字间的四则运算与大多数编程语言一样，加、减、乘、除分别是 `+`、`-`、`*`、`/`："
   ]
  },
  {
   "cell_type": "code",
   "execution_count": 2,
   "metadata": {},
   "outputs": [
    {
     "data": {
      "text/plain": [
       "(7, 3, 10, 2.5)"
      ]
     },
     "execution_count": 2,
     "metadata": {},
     "output_type": "execute_result"
    }
   ],
   "source": [
    "a + b, a - b, a * b, a / b"
   ]
  },
  {
   "cell_type": "markdown",
   "metadata": {},
   "source": [
    "上述非 print 的写法只在交互式的 Python 命令行中有效，在执行 `.py` 文件时是不会输出结果的。正规的写法是利用 `print()` 函数，将它们依次打印到屏幕（`print()` 函数默认以空格分隔每一项）。\n",
    "\n",
    "- 函数 `print` 被调用了，其右侧的括号内是函数的输入参数。\n",
    "- 函数的各个输入参数之间用英文逗号分隔"
   ]
  },
  {
   "cell_type": "code",
   "execution_count": 3,
   "metadata": {
    "tags": []
   },
   "outputs": [
    {
     "name": "stdout",
     "output_type": "stream",
     "text": [
      "7 3 10 2.5\n"
     ]
    }
   ],
   "source": [
    "print(a + b, a - b, a * b, a / b)"
   ]
  },
  {
   "cell_type": "markdown",
   "metadata": {},
   "source": [
    "函数 `print()` 可以用 `sep` 参数来指定以什么分隔符来分隔多个要输出的项。比如用换行符 `\\n` ："
   ]
  },
  {
   "cell_type": "code",
   "execution_count": 4,
   "metadata": {},
   "outputs": [
    {
     "name": "stdout",
     "output_type": "stream",
     "text": [
      "7\n",
      "3\n",
      "10\n",
      "2.5\n"
     ]
    }
   ],
   "source": [
    "print(a + b, a - b, a * b, a / b, sep='\\n')"
   ]
  },
  {
   "cell_type": "markdown",
   "metadata": {},
   "source": [
    "稍微复杂一点的是整除、取余和乘方，分别是 `//`、`%`、`**`："
   ]
  },
  {
   "cell_type": "code",
   "execution_count": 5,
   "metadata": {
    "tags": []
   },
   "outputs": [
    {
     "name": "stdout",
     "output_type": "stream",
     "text": [
      "2 1 25\n"
     ]
    }
   ],
   "source": [
    "print(a // b, a % b, a ** b)"
   ]
  },
  {
   "cell_type": "markdown",
   "metadata": {},
   "source": [
    "在同时计算整除与取余时，Python 还提供了一个函数 `divmod()`，它返回一个长度为 2 的元组，即 `divmod(x, y) = (x//y, x%y)`："
   ]
  },
  {
   "cell_type": "code",
   "execution_count": 6,
   "metadata": {
    "tags": []
   },
   "outputs": [
    {
     "name": "stdout",
     "output_type": "stream",
     "text": [
      "(2, 1)\n"
     ]
    }
   ],
   "source": [
    "print(divmod(a, b))"
   ]
  },
  {
   "cell_type": "markdown",
   "metadata": {},
   "source": [
    "在 Python 中，圆括号代表高优先级；方括号与花括号在 Python 中有另外的含义，因此在做数学运算的时候，你只能不断地叠用圆括号："
   ]
  },
  {
   "cell_type": "code",
   "execution_count": 7,
   "metadata": {},
   "outputs": [
    {
     "data": {
      "text/plain": [
       "1"
      ]
     },
     "execution_count": 7,
     "metadata": {},
     "output_type": "execute_result"
    }
   ],
   "source": [
    "(2 + (2 * 2)) // 5"
   ]
  },
  {
   "cell_type": "markdown",
   "metadata": {},
   "source": [
    "### 存储计算结果\n",
    "\n",
    "要将结果储存起来，使用之前介绍的赋值号 `=`："
   ]
  },
  {
   "cell_type": "code",
   "execution_count": 8,
   "metadata": {
    "tags": []
   },
   "outputs": [
    {
     "name": "stdout",
     "output_type": "stream",
     "text": [
      "7 (2, 1) 2 1\n"
     ]
    }
   ],
   "source": [
    "# a = 5, b = 2\n",
    "c = a + b\n",
    "d = divmod(a, b)\n",
    "e, f = divmod(a, b)\n",
    "print(c, d, e, f)"
   ]
  },
  {
   "cell_type": "markdown",
   "metadata": {},
   "source": [
    "- 在 Python 中，用井号（Sharp 号）`#` 来开始一个行内注释，它右侧的内容会被注释掉。\n",
    "- 赋值不必是一对一的；如果赋值号右侧的表达式返回一个长度为 n 的元组，那么左侧也可以用 n 个由逗号连接的变量来接受按顺序拆分的结果。\n",
    "  - 上例中 `d` 接受了一个长度为 2 元组的返回值，因此 `d` 是一个的元组，值是 `(2,1)`\n",
    "  - 上例中 `e, f` 接受了元组 `(2,1)` 的赋值，因此 `e` 被赋值为 2， `f` 被赋值为 1。\n",
    "\n",
    "更多的数字类型内容，在下文中进行详细介绍。"
   ]
  },
  {
   "cell_type": "markdown",
   "metadata": {},
   "source": [
    "## 内置变量类型\n",
    "\n",
    "我认为以下内置变量类型是在 Python 中经常用到、或者必须有所了解的：\n",
    "\n",
    "| 类型 | 关键字 | 说明 | 例子 |\n",
    "| :---: | :---: | --- | --- |\n",
    "| 【数字】 |\n",
    "| 整型 | `int` | 整数 | `1`, `-1` |\n",
    "| 浮点型 | `float` | 浮点数 | `1.0` |\n",
    "| 复数型 | `complex` | 复数 | `complex(1,2)`\n",
    "| 【序列】 |\n",
    "| 列表 | `list` | 一串有序的可变数据序列，每一项数据可以是任意类型。 | `[1, 2]` |\n",
    "| 元组 | `tuple` | 一串有序的不可变数据序列，在创建时就固定了每一项的数据值。 | `(1, 2)` |\n",
    "| 字符串 | `str` | 一串文本字符组成的不可变序列。 | `\"string\"` |\n",
    "| 【映射】 |\n",
    "| 字典 | `dict` | 一些互不相同的键及它们各自对应的值组成的键值对数据集。 | `{\"a\":1, \"b\":2}` |\n",
    "| 【集合】 |\n",
    "| 集合 | `set` | 一些互不相同的数据值组成的无序可变数据集。 | `{1, 2}` |\n",
    "| 【其他】 |\n",
    "| 布尔型 | `bool` | 表示真或假的逻辑类型。 | `True` |\n",
    "| 空对象 | `None` | 表示空。 | `None` |\n",
    "\n",
    "以上并不是 Python 的全部内置类型：\n",
    "\n",
    "- 一些高级的、复杂的变量类型，例如 `range` 构造器，不再在这里列出。它们会在后续的章节进行介绍。\n",
    "- 一些较少使用到的类型，比如 `byte` 二进制字节类型，不会在本文的任何章节介绍。"
   ]
  },
  {
   "cell_type": "markdown",
   "metadata": {},
   "source": [
    "## 布尔型与空对象\n",
    "\n",
    "在介绍其他的变量类型之前，先介绍这两个特殊的类型。\n",
    "\n",
    "### 布尔型\n",
    "\n",
    "布尔型有真（True）或假（False）两种逻辑值，单词的首字母大写。常用的逻辑运算：\n",
    "\n",
    "- 逻辑与：全真才为真 `x and y`\n",
    "- 逻辑或：含真即为真 `x or y`\n",
    "- 逻辑非： `not x`\n",
    "- 逻辑异或：相异为真 `x ^ y`\n",
    "\n",
    "以上 `x` 与 `y` 均是布尔型变量。"
   ]
  },
  {
   "cell_type": "code",
   "execution_count": 9,
   "metadata": {},
   "outputs": [
    {
     "name": "stdout",
     "output_type": "stream",
     "text": [
      "False True False True\n"
     ]
    }
   ],
   "source": [
    "x = True\n",
    "y = False\n",
    "\n",
    "print(x and y, x or y, not x, x ^ y)"
   ]
  },
  {
   "cell_type": "markdown",
   "metadata": {},
   "source": [
    "### 空对象\n",
    "\n",
    "None 是 Python 中的空对象，它的用途我们在下文再介绍。\n",
    "\n",
    "空对象的逻辑值为假："
   ]
  },
  {
   "cell_type": "code",
   "execution_count": 10,
   "metadata": {},
   "outputs": [
    {
     "name": "stdout",
     "output_type": "stream",
     "text": [
      "False\n"
     ]
    }
   ],
   "source": [
    "x = None\n",
    "print(bool(x))"
   ]
  },
  {
   "cell_type": "markdown",
   "metadata": {},
   "source": [
    "## 数字类型：int, float, complex\n",
    "\n",
    "数字类型没有太多需要介绍的地方。\n",
    "\n",
    "- 四则运算：`+`, `-`, `*`, `/`\n",
    "- 整除与取余：`c = a // b`, `d = a % b`；或者 `c, d = divmod(a,b)`。\n",
    "  - 这里的整除是指向负无穷取整，例如 `-5//2` 的结果是 `-3`。\n",
    "  - 复数不能参与整除或取余运算。\n",
    "- 乘方：`a ** b`，或者 `pow(a, b)`\n",
    "- 取模：`abs(a)`。如果 `a` 是复数，那么会计算模长；如果是整数或浮点数，实质上就是取绝对值。\n",
    "- 自运算：`a += 1` 即 `a` 自增 1；同理有 `-=`, `*=`, `/=`\n",
    "\n",
    "值得注意的点：\n",
    "\n",
    "- **只要有除法参与的数学运算，其结果一定是浮点型**。\n",
    "- **只要有浮点型参与的数学运算，其结果也一定是浮点型**。\n",
    "- Python 的内部机制已经处理了整数溢出的问题，因此无须担心。\n",
    "- 虽然在数学上不合法，但是在 Python（以及一众编程语言）中，`0 ** 0` 等于 1。\n",
    "\n",
    "特别地，浮点型中还包含两个特殊的值，分别是”非数“（Not a Number, `nan`）与”正/负无穷“（Infinity, `inf`）："
   ]
  },
  {
   "cell_type": "code",
   "execution_count": 11,
   "metadata": {},
   "outputs": [
    {
     "name": "stdout",
     "output_type": "stream",
     "text": [
      "nan inf -inf\n"
     ]
    }
   ],
   "source": [
    "x, y, z = 'nan', 'inf', '-inf'\n",
    "print(float(x), float(y), float(z))"
   ]
  },
  {
   "cell_type": "markdown",
   "metadata": {},
   "source": [
    "复数的使用非常少见，随便举个例子吧："
   ]
  },
  {
   "cell_type": "code",
   "execution_count": 12,
   "metadata": {},
   "outputs": [
    {
     "name": "stdout",
     "output_type": "stream",
     "text": [
      "(3+4j) 5.0\n"
     ]
    }
   ],
   "source": [
    "x = complex(1, 5)\n",
    "y = complex(2, -1)\n",
    "z = x + y\n",
    "print(z, abs(z))"
   ]
  },
  {
   "cell_type": "markdown",
   "metadata": {},
   "source": [
    "### 类型转换与取整\n",
    "\n",
    "Python 中从浮点型到整型的强制类型转换会截断小数点之后的部分："
   ]
  },
  {
   "cell_type": "code",
   "execution_count": 13,
   "metadata": {
    "tags": []
   },
   "outputs": [
    {
     "name": "stdout",
     "output_type": "stream",
     "text": [
      "1 1 -1 -1\n"
     ]
    }
   ],
   "source": [
    "a, b, c, d = 1.2, 1.6, -1.2, -1.6\n",
    "print(int(a), int(b), int(c), int(d))"
   ]
  },
  {
   "cell_type": "markdown",
   "metadata": {},
   "source": [
    "要实现复杂的取整控制，可以调用 Python 内置的 `math` 模块：\n",
    "\n",
    "- floor：向负无穷取整。\n",
    "- ceil：向正无穷取整。"
   ]
  },
  {
   "cell_type": "code",
   "execution_count": 14,
   "metadata": {
    "tags": []
   },
   "outputs": [
    {
     "name": "stdout",
     "output_type": "stream",
     "text": [
      "1 2 -2 -1\n"
     ]
    }
   ],
   "source": [
    "import math  # 导入 math 模块\n",
    "\n",
    "print(math.floor(a), math.ceil(b), math.floor(c), math.ceil(d))"
   ]
  },
  {
   "cell_type": "markdown",
   "metadata": {},
   "source": [
    "不过在我个人的实践中，取整与四舍五入进位的任务通常由 `numpy` 库代劳；有兴趣的读者，可以阅读 Numpy 的相关函数：\n",
    "\n",
    "- [numpy.round](https://numpy.org/doc/stable/reference/generated/numpy.round_.html)\n",
    "- [numpy.floor](https://numpy.org/doc/stable/reference/generated/numpy.floor.html)\n",
    "- [numpy.ceil](https://numpy.org/doc/stable/reference/generated/numpy.ceil.html)\n",
    "- [numpy.trunc](https://numpy.org/doc/stable/reference/generated/numpy.trunc.html)"
   ]
  },
  {
   "cell_type": "markdown",
   "metadata": {},
   "source": [
    "### 比较数字大小\n",
    "\n",
    "常规的数字大小判断：\n",
    "\n",
    "- 小于 `<` 与小于等于 `<=`\n",
    "- 大于 `>` 与大于等于 `>=`\n",
    "- 等于 `==` 与不等于 `!=`"
   ]
  },
  {
   "cell_type": "code",
   "execution_count": 15,
   "metadata": {},
   "outputs": [
    {
     "name": "stdout",
     "output_type": "stream",
     "text": [
      "True\n"
     ]
    }
   ],
   "source": [
    "x = 3\n",
    "y = 4\n",
    "print(x != y)"
   ]
  },
  {
   "cell_type": "markdown",
   "metadata": {},
   "source": [
    "特别地，Python 还支持“三元比较”："
   ]
  },
  {
   "cell_type": "code",
   "execution_count": 16,
   "metadata": {},
   "outputs": [
    {
     "name": "stdout",
     "output_type": "stream",
     "text": [
      "True True True\n"
     ]
    }
   ],
   "source": [
    "print(3 < 4 == 4, 3 > 2 < 4, 1 < 3 <= 5)"
   ]
  },
  {
   "cell_type": "markdown",
   "metadata": {},
   "source": [
    "<div class=\"alert alert-info\">\n",
    "\n",
    "重要\n",
    "    \n",
    "不要试图用双等号比较两个浮点值的是否相等！\n",
    "\n",
    "</div>"
   ]
  },
  {
   "cell_type": "markdown",
   "metadata": {},
   "source": [
    "浮点计算是有精度的，直接比较它们是否相等是不明智的："
   ]
  },
  {
   "cell_type": "code",
   "execution_count": 17,
   "metadata": {},
   "outputs": [
    {
     "name": "stdout",
     "output_type": "stream",
     "text": [
      "0.30000000000000004 0.3 False\n"
     ]
    }
   ],
   "source": [
    "x, y = 0.1, 0.2\n",
    "z = 0.3\n",
    "\n",
    "print(x+y, z, x+y==z)"
   ]
  },
  {
   "cell_type": "markdown",
   "metadata": {},
   "source": [
    "关于高精度的数学计算，推荐配合科学计算库 NumPy 使用。"
   ]
  },
  {
   "cell_type": "markdown",
   "metadata": {},
   "source": [
    "## 列表：list\n",
    "\n",
    "Python 的三种常用序列 list, tuple, str, 我们先讲列表 list；列表大概是最接近其他编程语言的序列了。\n",
    "\n",
    "- 列表序号从 0 开始。\n",
    "- Python 中的列表类似于其他语言的数组，不过列表的长度可变、并且元素不必是同一类型的。\n",
    "\n",
    "*虽然列表中可以包含不同类型的元素，但从编程习惯上说，个人不推荐这样做。*"
   ]
  },
  {
   "cell_type": "code",
   "execution_count": 18,
   "metadata": {},
   "outputs": [
    {
     "name": "stdout",
     "output_type": "stream",
     "text": [
      "[1, 2, 'a', 4]\n"
     ]
    }
   ],
   "source": [
    "x = [1, 2, 'a', 4]\n",
    "y = []  # 空列表\n",
    "print(x)"
   ]
  },
  {
   "cell_type": "markdown",
   "metadata": {},
   "source": [
    "Python 中的列表默认支持常见所有的序列操作：\n",
    "\n",
    "- 索引元素：单个选取 `x[index]` ，切片型选取 `x[start:end:step]`\n",
    "- 元素个数： `len(x)`\n",
    "- 追加：单个元素 `x.append(item)` ，追加一个列表 `x.extend(y)`\n",
    "- 插入： `x.insert(index, item)`\n",
    "- 排序： `x.sort()` ，或者带返回值的 `sorted(x)`\n",
    "- 查询：判断是否包含 `item in x` ，返回索引序数 `x.index(item)`\n",
    "- 删除：弹出并返回一个元素 `x.pop(index)` ，直接删除元素 `del(x[index])`\n",
    "\n",
    "上述叙述中， `x` 与 `y` 均表示列表， `index` 表示序数（整数类型）， `item` 表示列表元素。"
   ]
  },
  {
   "cell_type": "markdown",
   "metadata": {},
   "source": [
    "### 索引元素\n",
    "\n",
    "列表中最基础的操作就是根据索引序号，取出单个（或多个）元素："
   ]
  },
  {
   "cell_type": "code",
   "execution_count": 19,
   "metadata": {},
   "outputs": [
    {
     "name": "stdout",
     "output_type": "stream",
     "text": [
      "1 5\n"
     ]
    }
   ],
   "source": [
    "x = [1, 2, 3, 4, 5]\n",
    "print(x[0], x[4])"
   ]
  },
  {
   "cell_type": "markdown",
   "metadata": {},
   "source": [
    "Python 支持负数索引，比如 `x[-1]` 表示列表的倒数第 1 位元素："
   ]
  },
  {
   "cell_type": "code",
   "execution_count": 20,
   "metadata": {},
   "outputs": [
    {
     "name": "stdout",
     "output_type": "stream",
     "text": [
      "4\n"
     ]
    }
   ],
   "source": [
    "x = [1, 2, 3, 4, 5]\n",
    "print(x[-2])"
   ]
  },
  {
   "cell_type": "markdown",
   "metadata": {},
   "source": [
    "Python 支持一种切片语法，可以指定索引序号的起始、终止、步长，来选取多个元素。\n",
    "\n",
    "- `x[start:end]` ：从 `x[start]` 依次选取到 `x[end-1]`\n",
    "- `x[start:end:step]` ：从 `x[start]` 每 `step` 个元素选取依次，直到 `x[end-1]` （或它之前最后一个能被选取到的元素）。步长可以是负数，但相应地必须有 start >= end\n",
    "- `x[start:]` 或者 `x[:end]` ：从 `x[start]` 选取到末尾，或者从起始选取到 `x[end-1]` 。这其实是忽略了冒号一侧的项，也可以用空值 None 补位"
   ]
  },
  {
   "cell_type": "markdown",
   "metadata": {},
   "source": [
    "<div class=\"alert alert-info\">\n",
    "\n",
    "重要\n",
    "\n",
    "切片选取的结束是第 end-1 个元素，而不是第 end 个元素。\n",
    "\n",
    "Python这样设计的原因是，这样保证了切片 x[start:end] 的长度恰好是 end 减去 start，而不是 end-start+1.\n",
    "\n",
    "</div>"
   ]
  },
  {
   "cell_type": "code",
   "execution_count": 21,
   "metadata": {},
   "outputs": [
    {
     "name": "stdout",
     "output_type": "stream",
     "text": [
      "[1, 2, 3, 4]\n"
     ]
    }
   ],
   "source": [
    "# 选取 0 到 3，注意末尾被舍去\n",
    "x = [1, 2, 3, 4, 5]\n",
    "print(x[0:4])"
   ]
  },
  {
   "cell_type": "code",
   "execution_count": 22,
   "metadata": {},
   "outputs": [
    {
     "name": "stdout",
     "output_type": "stream",
     "text": [
      "[1, 3] [1, 3, 5]\n"
     ]
    }
   ],
   "source": [
    "# 选取 0 到 3 (或4)，每 2 个选取一次\n",
    "print(x[0:4:2], x[0:5:2])"
   ]
  },
  {
   "cell_type": "code",
   "execution_count": 23,
   "metadata": {},
   "outputs": [
    {
     "name": "stdout",
     "output_type": "stream",
     "text": [
      "[5, 4, 3, 2, 1]\n"
     ]
    }
   ],
   "source": [
    "# 负数步长\n",
    "print(x[::-1])"
   ]
  },
  {
   "cell_type": "code",
   "execution_count": 24,
   "metadata": {},
   "outputs": [
    {
     "name": "stdout",
     "output_type": "stream",
     "text": [
      "[2, 3, 4, 5] [1, 2, 3, 4]\n"
     ]
    }
   ],
   "source": [
    "# 从 1 选取到末尾，或从起始选取至倒数第 2 项\n",
    "print(x[1:], x[:-1])"
   ]
  },
  {
   "cell_type": "code",
   "execution_count": 25,
   "metadata": {},
   "outputs": [
    {
     "name": "stdout",
     "output_type": "stream",
     "text": [
      "[1, 3, 5] [1, 3, 5]\n"
     ]
    }
   ],
   "source": [
    "# 也可以忽略某一项，等同于 None\n",
    "print(x[::2], x[None:None:2])"
   ]
  },
  {
   "cell_type": "markdown",
   "metadata": {},
   "source": [
    "赋值可以直接进行："
   ]
  },
  {
   "cell_type": "code",
   "execution_count": 26,
   "metadata": {},
   "outputs": [
    {
     "name": "stdout",
     "output_type": "stream",
     "text": [
      "[6, 7, 3, 4, 5]\n"
     ]
    }
   ],
   "source": [
    "x = [1, 2, 3, 4, 5]\n",
    "x[:2] = [6, 7]  # 本质是将右侧解包，然后分别传入两个元素位\n",
    "print(x)"
   ]
  },
  {
   "cell_type": "markdown",
   "metadata": {},
   "source": [
    "### 元素个数\n",
    "\n",
    "Python 的 `len()` 函数是一个独立的函数，并不是通过 `x.len()` 的方式调用的。这其中设计的差别，读者可以仔细体会。\n",
    "\n",
    "该函数不止适用于列表，也适用于其他序列类型。"
   ]
  },
  {
   "cell_type": "code",
   "execution_count": 27,
   "metadata": {},
   "outputs": [
    {
     "name": "stdout",
     "output_type": "stream",
     "text": [
      "5\n"
     ]
    }
   ],
   "source": [
    "x = [1, 2, 3, 4, 5]\n",
    "print(len(x))"
   ]
  },
  {
   "cell_type": "markdown",
   "metadata": {},
   "source": [
    "### 追加\n",
    "\n",
    "Python 的追加元素使用 `x.append()` ： "
   ]
  },
  {
   "cell_type": "code",
   "execution_count": 28,
   "metadata": {},
   "outputs": [
    {
     "name": "stdout",
     "output_type": "stream",
     "text": [
      "[1, 2, 3, 4, 5, -2]\n"
     ]
    }
   ],
   "source": [
    "x = [1, 2, 3, 4, 5]\n",
    "x.append(-2)\n",
    "\n",
    "print(x)"
   ]
  },
  {
   "cell_type": "markdown",
   "metadata": {},
   "source": [
    "要追加一个列表，使用 `x.extend()` ："
   ]
  },
  {
   "cell_type": "code",
   "execution_count": 29,
   "metadata": {},
   "outputs": [
    {
     "name": "stdout",
     "output_type": "stream",
     "text": [
      "[1, 2, 3, 4, 5, -2, -1]\n"
     ]
    }
   ],
   "source": [
    "x = [1, 2, 3, 4, 5]\n",
    "x.extend([-2, -1])\n",
    "\n",
    "print(x)"
   ]
  },
  {
   "cell_type": "markdown",
   "metadata": {},
   "source": [
    "注意， `x.append()` 这种 Python 内置实例的方法并不返回任何值。所以，你不能把它赋值到另一个变量："
   ]
  },
  {
   "cell_type": "code",
   "execution_count": 30,
   "metadata": {
    "scrolled": true
   },
   "outputs": [
    {
     "name": "stdout",
     "output_type": "stream",
     "text": [
      "None\n"
     ]
    }
   ],
   "source": [
    "y = [1, 2, 3, 4, 5].append(-2)\n",
    "print(y)  # 无效的赋值，因为它并没有返回值"
   ]
  },
  {
   "cell_type": "markdown",
   "metadata": {},
   "source": [
    "要实现这种“返回值”效果，可以考虑下面两种方法之一：\n",
    "\n",
    "- 加号：Python 支持用加号连接两个可变列表，从而把它们“融合”在一起\n",
    "- 星号：Python 支持用前缀星号的方式进行列表展开"
   ]
  },
  {
   "cell_type": "code",
   "execution_count": 31,
   "metadata": {},
   "outputs": [
    {
     "name": "stdout",
     "output_type": "stream",
     "text": [
      "[1, 2, 3, 4, 5] [1, 2, 3, 4, 5]\n"
     ]
    }
   ],
   "source": [
    "x = [1, 2, 3]\n",
    "y1 = x + [4, 5]\n",
    "y2 = [*x, 4, 5]\n",
    "\n",
    "print(y1, y2)"
   ]
  },
  {
   "cell_type": "markdown",
   "metadata": {},
   "source": [
    "### 插入\n",
    "\n",
    "用 `x.insert(index, item)` 将元素插入到第 `index` 个元素的位置，原第 index 及以后的元素依次后移："
   ]
  },
  {
   "cell_type": "code",
   "execution_count": 32,
   "metadata": {},
   "outputs": [
    {
     "name": "stdout",
     "output_type": "stream",
     "text": [
      "[1, -1, 2, 3] -1\n"
     ]
    }
   ],
   "source": [
    "x = [1, 2, 3]\n",
    "x.insert(1, -1)  # 插入到 x[1] 处\n",
    "\n",
    "print(x, x[1])"
   ]
  },
  {
   "cell_type": "markdown",
   "metadata": {},
   "source": [
    "要实现类似上一小节的“返回值”效果，仍然可以使用加号或者星号两种方式："
   ]
  },
  {
   "cell_type": "code",
   "execution_count": 33,
   "metadata": {},
   "outputs": [
    {
     "name": "stdout",
     "output_type": "stream",
     "text": [
      "[1, -1, 2, 3] [1, -1, 2, 3]\n"
     ]
    }
   ],
   "source": [
    "x = [1, 2, 3]\n",
    "item = -1\n",
    "\n",
    "y1 = x[:1] + [item] + x[1:]\n",
    "y2 = [*x[:1], item, *x[1:]]\n",
    "\n",
    "print(y1, y2)"
   ]
  },
  {
   "cell_type": "markdown",
   "metadata": {},
   "source": [
    "### 排序\n",
    "\n",
    "用 `x.sort()` 对列表进行排序，默认是按升序。Python 的排序是稳定排序。"
   ]
  },
  {
   "cell_type": "code",
   "execution_count": 34,
   "metadata": {},
   "outputs": [
    {
     "name": "stdout",
     "output_type": "stream",
     "text": [
      "[1, 2, 3, 4]\n"
     ]
    }
   ],
   "source": [
    "x = [1, 4, 3, 2]\n",
    "x.sort()\n",
    "\n",
    "print(x)"
   ]
  },
  {
   "cell_type": "markdown",
   "metadata": {},
   "source": [
    "添加 `reverse=True` 选项，可以按降序进行排列。"
   ]
  },
  {
   "cell_type": "code",
   "execution_count": 35,
   "metadata": {},
   "outputs": [
    {
     "name": "stdout",
     "output_type": "stream",
     "text": [
      "[4, 3, 2, 1]\n"
     ]
    }
   ],
   "source": [
    "x = [1, 4, 3, 2]\n",
    "x.sort(reverse=True)\n",
    "\n",
    "print(x)"
   ]
  },
  {
   "cell_type": "markdown",
   "metadata": {},
   "source": [
    "如果列表内的元素不是数字，是列表或其他序列，会按 `<` 比较的方式来排序。下面是对列表元素进行排序："
   ]
  },
  {
   "cell_type": "code",
   "execution_count": 36,
   "metadata": {},
   "outputs": [
    {
     "name": "stdout",
     "output_type": "stream",
     "text": [
      "[[1, 2], [3, 2], [3, 4], [4, 3, 2]]\n"
     ]
    }
   ],
   "source": [
    "x = [[1, 2], [4, 3, 2], [3, 4], [3, 2]]\n",
    "x.sort()\n",
    "\n",
    "print(x)"
   ]
  },
  {
   "cell_type": "markdown",
   "metadata": {},
   "source": [
    "要实现类似上一小节的“返回值”效果，仍然可以使用加号或者星号两种方式："
   ]
  },
  {
   "cell_type": "code",
   "execution_count": 37,
   "metadata": {},
   "outputs": [
    {
     "name": "stdout",
     "output_type": "stream",
     "text": [
      "[4, 3, 2, 1]\n"
     ]
    }
   ],
   "source": [
    "x = [1, 4, 3, 2]\n",
    "\n",
    "print(sorted(x, reverse=True))"
   ]
  },
  {
   "cell_type": "markdown",
   "metadata": {},
   "source": [
    "### 查询\n",
    "\n",
    "要查询一个元素是否在列表中，使用 `in` 关键字："
   ]
  },
  {
   "cell_type": "code",
   "execution_count": 38,
   "metadata": {},
   "outputs": [
    {
     "name": "stdout",
     "output_type": "stream",
     "text": [
      "True False\n"
     ]
    }
   ],
   "source": [
    "x = [1, 2, 3, 4]\n",
    "\n",
    "print(2 in x, 5 in x)"
   ]
  },
  {
   "cell_type": "markdown",
   "metadata": {},
   "source": [
    "要查询一个元素在列表中的位置，使用 `x.index(item)` ："
   ]
  },
  {
   "cell_type": "code",
   "execution_count": 39,
   "metadata": {},
   "outputs": [
    {
     "name": "stdout",
     "output_type": "stream",
     "text": [
      "1\n"
     ]
    }
   ],
   "source": [
    "x = [1, 2, 3, 4]\n",
    "\n",
    "print(x.index(2))"
   ]
  },
  {
   "cell_type": "markdown",
   "metadata": {},
   "source": [
    "如果 `item` 不在列表中，这样会弹出 ValueError 错误，提示你要查询的对象并不在列表中："
   ]
  },
  {
   "cell_type": "code",
   "execution_count": 40,
   "metadata": {},
   "outputs": [
    {
     "ename": "ValueError",
     "evalue": "5 is not in list",
     "output_type": "error",
     "traceback": [
      "\u001b[1;31m---------------------------------------------------------------------------\u001b[0m",
      "\u001b[1;31mValueError\u001b[0m                                Traceback (most recent call last)",
      "\u001b[1;32m<ipython-input-40-96ad5df81983>\u001b[0m in \u001b[0;36m<module>\u001b[1;34m\u001b[0m\n\u001b[1;32m----> 1\u001b[1;33m \u001b[0mx\u001b[0m\u001b[1;33m.\u001b[0m\u001b[0mindex\u001b[0m\u001b[1;33m(\u001b[0m\u001b[1;36m5\u001b[0m\u001b[1;33m)\u001b[0m\u001b[1;33m\u001b[0m\u001b[1;33m\u001b[0m\u001b[0m\n\u001b[0m",
      "\u001b[1;31mValueError\u001b[0m: 5 is not in list"
     ]
    }
   ],
   "source": [
    "x.index(5)"
   ]
  },
  {
   "cell_type": "markdown",
   "metadata": {},
   "source": [
    "### 删除\n",
    "\n",
    "用 `x.pop()` 弹出列表末尾的元素，或用 `x.pop(index)` 弹出第 index 位的元素："
   ]
  },
  {
   "cell_type": "code",
   "execution_count": 41,
   "metadata": {},
   "outputs": [
    {
     "name": "stdout",
     "output_type": "stream",
     "text": [
      "4 [1, 2, 3]\n"
     ]
    }
   ],
   "source": [
    "x = [1, 2, 3, 4]\n",
    "y = x.pop()\n",
    "print(y, x)"
   ]
  },
  {
   "cell_type": "code",
   "execution_count": 42,
   "metadata": {},
   "outputs": [
    {
     "name": "stdout",
     "output_type": "stream",
     "text": [
      "3 [1, 2, 4]\n"
     ]
    }
   ],
   "source": [
    "x = [1, 2, 3, 4]\n",
    "y = x.pop(2)\n",
    "print(y, x)"
   ]
  },
  {
   "cell_type": "markdown",
   "metadata": {},
   "source": [
    "或者直接用 `del(index)` 命令来删除元素 `x[index]` ："
   ]
  },
  {
   "cell_type": "code",
   "execution_count": 43,
   "metadata": {},
   "outputs": [
    {
     "name": "stdout",
     "output_type": "stream",
     "text": [
      "[1, 3, 4]\n"
     ]
    }
   ],
   "source": [
    "x = [1, 2, 3, 4]\n",
    "del(x[1])\n",
    "print(x)"
   ]
  },
  {
   "cell_type": "markdown",
   "metadata": {},
   "source": [
    "## 高级列表操作"
   ]
  },
  {
   "cell_type": "markdown",
   "metadata": {},
   "source": [
    "### 列表展开\n",
    "\n",
    "可以“就地”把列表拆开成多个以逗号分隔的元素。除了上文提到的展开为列表中的项（比如 `[1, *x, 2]` ），更常见的是拆成函数的传入参数。比如取余函数 `divmod()` 接受两个参数："
   ]
  },
  {
   "cell_type": "code",
   "execution_count": 44,
   "metadata": {},
   "outputs": [
    {
     "name": "stdout",
     "output_type": "stream",
     "text": [
      "(3, 1)\n"
     ]
    }
   ],
   "source": [
    "x = [7, 2]\n",
    "\n",
    "print(divmod(*x))  # 7÷2=3 … 1 "
   ]
  },
  {
   "cell_type": "markdown",
   "metadata": {},
   "source": [
    "### 列表解析\n",
    "\n",
    "列表解析可能需要了解 for 循环与 if 判断语句才能理解："
   ]
  },
  {
   "cell_type": "code",
   "execution_count": 45,
   "metadata": {},
   "outputs": [
    {
     "name": "stdout",
     "output_type": "stream",
     "text": [
      "[1, 3, 5] [1, 3, 5]\n"
     ]
    }
   ],
   "source": [
    "x = [1, 2, 3, 4, 5, 6]\n",
    "y = [k for k in x[::2]]\n",
    "z = [k for k in x if k % 2 == 1]\n",
    "\n",
    "print(y, z)"
   ]
  },
  {
   "cell_type": "markdown",
   "metadata": {},
   "source": [
    "## 元组\n",
    "\n",
    "Python 中的元组与列表类似，但是元素不可变。\n",
    "\n",
    "- 元组与列表有不同的使用场景。\n",
    "- 元组的元素之间以逗号隔开，外侧的圆括号是可选的。"
   ]
  },
  {
   "cell_type": "code",
   "execution_count": 46,
   "metadata": {},
   "outputs": [],
   "source": [
    "x = 1, 2, 3  # 等同于 x = (1, 2, 3)\n",
    "y = ()       # 空元组\n",
    "z = (1,)     # 单元素元组"
   ]
  },
  {
   "cell_type": "markdown",
   "metadata": {},
   "source": [
    "元组也可以解包，将内部值赋给多个变量："
   ]
  },
  {
   "cell_type": "code",
   "execution_count": 47,
   "metadata": {},
   "outputs": [
    {
     "name": "stdout",
     "output_type": "stream",
     "text": [
      "1 2 3\n"
     ]
    }
   ],
   "source": [
    "a, b, c = x\n",
    "print(a, b, c)"
   ]
  },
  {
   "cell_type": "markdown",
   "metadata": {},
   "source": [
    "元组的索引与列表的方式一致，只是不能赋值给元组中的元素："
   ]
  },
  {
   "cell_type": "code",
   "execution_count": 48,
   "metadata": {},
   "outputs": [
    {
     "data": {
      "text/plain": [
       "(1, 3, 5)"
      ]
     },
     "execution_count": 48,
     "metadata": {},
     "output_type": "execute_result"
    }
   ],
   "source": [
    "x = 1, 2, 3, 4, 5\n",
    "x[::2]"
   ]
  },
  {
   "cell_type": "markdown",
   "metadata": {},
   "source": [
    "元组的长度也可以用 `len()` 函数获取："
   ]
  },
  {
   "cell_type": "code",
   "execution_count": 49,
   "metadata": {},
   "outputs": [
    {
     "name": "stdout",
     "output_type": "stream",
     "text": [
      "3\n"
     ]
    }
   ],
   "source": [
    "x = 1, 2, 3\n",
    "print(len(x))"
   ]
  },
  {
   "cell_type": "markdown",
   "metadata": {},
   "source": [
    "## 字符串\n",
    "\n",
    "字符串是一种不可变序列。\n",
    "\n",
    "它在创建时可以用单引号包括，也可以用双引号包括。内部的引号可以用反斜线 `\\` 转义："
   ]
  },
  {
   "cell_type": "code",
   "execution_count": 50,
   "metadata": {},
   "outputs": [
    {
     "name": "stdout",
     "output_type": "stream",
     "text": [
      "It's a string. It's a string. True\n"
     ]
    }
   ],
   "source": [
    "x = \"It's a string.\"\n",
    "y = 'It\\'s a string.'\n",
    "print(x, y, x == y)"
   ]
  },
  {
   "cell_type": "markdown",
   "metadata": {},
   "source": [
    "字符串可以用加号与乘号来进行连接与重复；如果要连接的均是字符串面值（直接用引号括起的值，而不是字符串变量），可以用空格进行连接。"
   ]
  },
  {
   "cell_type": "code",
   "execution_count": 51,
   "metadata": {},
   "outputs": [
    {
     "name": "stdout",
     "output_type": "stream",
     "text": [
      "abcabcabcdef\n",
      "This is a single-line string but I can write it across lines.\n",
      "abcabcabcdefqwe\n"
     ]
    }
   ],
   "source": [
    "x = \"abc\" * 3 + \"def\"\n",
    "y = (\"This is a single-line string \"\n",
    "     \"but I can write it across lines.\")\n",
    "z = x + 'qwe'  # 字符串变量也可用加号与面值连接\n",
    "print(x, y, z, sep='\\n')"
   ]
  },
  {
   "cell_type": "markdown",
   "metadata": {},
   "source": [
    "多行字符串可以用三个连续的单引号（或双引号）包括。多行字符串内容的所有换行都会被保留；可以在行尾添加一个反斜线 `\\` 来忽略当前行的换行："
   ]
  },
  {
   "cell_type": "code",
   "execution_count": 52,
   "metadata": {},
   "outputs": [
    {
     "name": "stdout",
     "output_type": "stream",
     "text": [
      "This is\n",
      "a multiline\n",
      "string.\n",
      "\n"
     ]
    }
   ],
   "source": [
    "x = \"\"\"\\\n",
    "This is\n",
    "a multiline\n",
    "string.\n",
    "\"\"\"\n",
    "print(x)"
   ]
  },
  {
   "cell_type": "markdown",
   "metadata": {},
   "source": [
    "### 转义与 r 字符串\n",
    "\n",
    "常见的转移字符包括：\n",
    "\n",
    "| 字符 | 含义 |\n",
    "| --- | :--- |\n",
    "| `\\b` | 退格 |\n",
    "| `\\n` | 换行 |\n",
    "| `\\r` | 移动到行首 |\n",
    "| `\\t` | 制表符 |\n",
    "| `\\\\` | 被转义的反斜线 |\n",
    "\n",
    "如果不想让反斜线进行转义，在字符串的 **左侧引号之前** 添加 `r` 实现："
   ]
  },
  {
   "cell_type": "code",
   "execution_count": 53,
   "metadata": {},
   "outputs": [
    {
     "name": "stdout",
     "output_type": "stream",
     "text": [
      "String with\tTAB.\n",
      "String with\\tTAB.\n"
     ]
    }
   ],
   "source": [
    "x = \"String with\\tTAB.\"\n",
    "y = r\"String with\\tTAB.\"\n",
    "print(x, y, sep='\\n')"
   ]
  },
  {
   "cell_type": "markdown",
   "metadata": {},
   "source": [
    "### 索引\n",
    "\n",
    "字符串的索引仍然是字符串。Python 中没有字符类型，单个字符只是长度为 1 的字符串。\n",
    "\n",
    "字符串的索引仍然支持"
   ]
  },
  {
   "cell_type": "code",
   "execution_count": 54,
   "metadata": {},
   "outputs": [
    {
     "data": {
      "text/plain": [
       "'This i'"
      ]
     },
     "execution_count": 54,
     "metadata": {},
     "output_type": "execute_result"
    }
   ],
   "source": [
    "x = \"This is a string.\"\n",
    "x[:6]"
   ]
  },
  {
   "cell_type": "code",
   "execution_count": 55,
   "metadata": {},
   "outputs": [
    {
     "data": {
      "text/plain": [
       "'Ti sasrn.'"
      ]
     },
     "execution_count": 55,
     "metadata": {},
     "output_type": "execute_result"
    }
   ],
   "source": [
    "x[::2]"
   ]
  },
  {
   "cell_type": "markdown",
   "metadata": {},
   "source": [
    "唯一不同于列表索引的是，字符串在切片选取时，可以超出索引范围而不报错："
   ]
  },
  {
   "cell_type": "code",
   "execution_count": 56,
   "metadata": {},
   "outputs": [
    {
     "name": "stdout",
     "output_type": "stream",
     "text": [
      "is a string.\n"
     ]
    }
   ],
   "source": [
    "x = \"This is a string.\"\n",
    "print(x[5:2333])"
   ]
  },
  {
   "cell_type": "markdown",
   "metadata": {},
   "source": [
    "### 格式化字符串输出"
   ]
  },
  {
   "cell_type": "markdown",
   "metadata": {},
   "source": [
    "<div class=\"alert alert-info\">\n",
    "\n",
    "重要\n",
    "\n",
    "请配合阅读 f 字符串章节，它继承了格式化字符串的许多特性，您可能更喜欢它。\n",
    "\n",
    "</div>"
   ]
  },
  {
   "cell_type": "markdown",
   "metadata": {},
   "source": [
    "我们常常需要把变量的值（可能不是字符串类型）嵌入到字符串中，比如："
   ]
  },
  {
   "cell_type": "code",
   "execution_count": 57,
   "metadata": {},
   "outputs": [
    {
     "name": "stdout",
     "output_type": "stream",
     "text": [
      "We are learning Python 3.\n"
     ]
    }
   ],
   "source": [
    "lang, ver = \"Python\", 3\n",
    "x = \"We are learning \" + lang + \" \" + str(ver) + \".\"\n",
    "print(x)"
   ]
  },
  {
   "cell_type": "markdown",
   "metadata": {},
   "source": [
    "上例中虽然用加法连接实现了这一点，但的确非常狼狈。Python 支持用 `x.format()` 的形式来格式化字符串："
   ]
  },
  {
   "cell_type": "code",
   "execution_count": 58,
   "metadata": {},
   "outputs": [
    {
     "name": "stdout",
     "output_type": "stream",
     "text": [
      "We are learning Python 3.\n",
      "True\n",
      "True\n"
     ]
    }
   ],
   "source": [
    "lang, ver = \"Python\", 3\n",
    "x = \"We are learning {} {}.\".format(lang, ver)\n",
    "\n",
    "# 也可以按名称访问\n",
    "y = \"We are learning {mylang} {myver}.\".format(mylang=lang, myver=ver)\n",
    "\n",
    "# 甚至可以进行字典展开，参考字典章节\n",
    "d = {\"mylang\": lang, \"myver\": ver}\n",
    "z = \"We are learning {mylang} {myver}.\".format(**d)\n",
    "\n",
    "print(x, x==y, x==z, sep='\\n')"
   ]
  },
  {
   "cell_type": "markdown",
   "metadata": {},
   "source": [
    "上面的几种写法都可以得到相同的结果。如你所见，在格式化字符串中，我们用花括号来占位。默认的， `x.format()` 的输入参数都会被转为字符串格式。\n",
    "\n",
    "- 如果要在格式化字符串中打印花括号，请使用双写花括号（比如 `{{` ）。\n",
    "- 如果传入的参数是键值对（即 `key=value` 的形式），请在花括号内注明键名称。这样的优势是代码可读性好。\n",
    "\n",
    "利用重复的键名或者重复的序号，可以反复使用同一个目标："
   ]
  },
  {
   "cell_type": "code",
   "execution_count": 59,
   "metadata": {},
   "outputs": [
    {
     "name": "stdout",
     "output_type": "stream",
     "text": [
      "We are learning Python 3. I love Python!\n",
      "True\n"
     ]
    }
   ],
   "source": [
    "# 复用 lang 变量\n",
    "x = \"We are learning {0} {1}. I love {0}!\".format(lang, ver)\n",
    "y = \"We are learning {mylang} {myver}. I love {mylang}!\".format(mylang=lang, myver=ver)\n",
    "print(x, x==y, sep='\\n')"
   ]
  },
  {
   "cell_type": "markdown",
   "metadata": {},
   "source": [
    "一个更复杂的例子是将输入参数转为特定的字符串格式，比如将浮点数转换为保留指定小数位的字符串。这时候需要用到冒号 `:` 来指定格式——格式指定位于冒号右侧，而键名（如果无则留空）位于冒号左侧："
   ]
  },
  {
   "cell_type": "code",
   "execution_count": 60,
   "metadata": {},
   "outputs": [
    {
     "name": "stdout",
     "output_type": "stream",
     "text": [
      "PI = 3.14159...\n",
      "True\n",
      "True\n"
     ]
    }
   ],
   "source": [
    "val, digits = 3.1415926535, 5\n",
    "x = \"PI = {:.5f}...\".format(val)\n",
    "y = \"PI = {val:.5f}...\".format(val=val)\n",
    "z = \"PI = {0:.{1}f}...\".format(val, digits)\n",
    "print(x, x==y, x==z, sep='\\n')"
   ]
  },
  {
   "cell_type": "markdown",
   "metadata": {},
   "source": [
    "Python 支持的格式有：\n",
    "\n",
    "| 格式声明 | 格式示例 | 解释 | 输入 | 输出 |\n",
    "| :--- | :---: | :--- | :--- | :--- |\n",
    "| 任意数 | \n",
    "| `e` | `{:.2e}` | 科学计数法小数点后2位（默认6） | `1234.567` | \"1.23e+03\" |\n",
    "| `E` | / | 同上，但输出时大写字母 E |  `1234.567` | \"1.23E+03\" |\n",
    "| `f` | `{:.4f}` | 保留小数点后4位（默认6） | `1234.567` | \"1234.5670\" |\n",
    "| `F` | / | 同上，但输出时大写 NAN 与 INF | `float('inf')` | \"INF\" |\n",
    "| `g` | / | 接受数字，并自行判断输出格式 | | |\n",
    "|     | `{:.5g}` | 5位有效数字（自动定点格式） | `1234.567` | \"1234.6\" |\n",
    "|     | `{:.3g}` | 3位有效数字（自动科学计数格式）| `1234.567` | \"1.23e+03\" |\n",
    "|     | `{:g}`   | （默认6位） | `float('nan')` | \"nan\" |\n",
    "| `G` | `{:.3G}` | 同上，但输出时使用大写的 E、NAN 与 INF | `1234.567` | \"1.23E+03\" |\n",
    "| `+` | `{:+.2f}` | 正负数均标明符号；保留2位小数 | `1234.567` | \"+1234.57\" | \n",
    "| `␣` | `{: .2f}` | 正数空格，负数标明负号；保留2位小数 | `1234.567` | \" 1234.57\" |\n",
    "| `%` | `{:.1%}` | 百分比，保留2位小数 | `0.12` | \" 12.0%\" |\n",
    "| 整数 |\n",
    "| `d` | `{:d}`   | 十进制整数 | `123` | \"123\" |\n",
    "| `b` | `{:b}`   | 二进制整数 | `123` | \"1111011\" |\n",
    "| `o` | `{:o}`   | 八进制整数 | `123` | \"173\" |\n",
    "| `x` | `{:x}`   | 十六进制整数 | `123` | \"7b\" |\n",
    "| `X` | / | 同上，但使用大写的 a~f | `123` | \"7B\" |\n",
    "| 格式符 |\n",
    "| `>` | `{:>4d}` | 强制右对齐（数字对象默认） | `123` | \" 123\" |\n",
    "|     | `{:0>4d}` | 以0而不是空格补位 | `123` | \"0123\" |\n",
    "| `<` | `{:<4d}` | 强制左对齐（其他对象默认） | `123` | \"123 \" |\n",
    "| `^` | `{:^4d}` | 强制居中对齐 | `123` | \"123 \" |\n",
    "| 其他 |\n",
    "| `,` | `{:,}` | 以逗号千分位分隔 | `1234` | \"1,234\" |\n",
    "| `#` | `{:#b}` | 显式保留输入类型；如二进制以\"0b\"开头 | `123` | \"0b1111011\" |"
   ]
  },
  {
   "cell_type": "markdown",
   "metadata": {},
   "source": [
    "下面是几个例子："
   ]
  },
  {
   "cell_type": "code",
   "execution_count": 61,
   "metadata": {},
   "outputs": [
    {
     "name": "stdout",
     "output_type": "stream",
     "text": [
      "***1234***\n"
     ]
    }
   ],
   "source": [
    "# 在数字两侧各添加3个星号\n",
    "x = 1234\n",
    "print(\"{:*^{}d}\".format(x, len(str(x))+6))"
   ]
  },
  {
   "cell_type": "code",
   "execution_count": 62,
   "metadata": {},
   "outputs": [
    {
     "name": "stdout",
     "output_type": "stream",
     "text": [
      "Type d: 123\n",
      "Type b: 0b1111011\n",
      "Type o: 0o173\n",
      "Type x: 0x7b\n",
      "Type X: 0X7B\n"
     ]
    }
   ],
   "source": [
    "# 输入给定十进制数的其他进制形式\n",
    "x = 123\n",
    "for base in \"dboxX\":\n",
    "    print(\"Type {base}: {val:#{base}}\".format(base=base, val=x))"
   ]
  }
 ],
 "metadata": {
  "kernelspec": {
   "display_name": "Python 3",
   "language": "python",
   "name": "python3"
  },
  "language_info": {
   "codemirror_mode": {
    "name": "ipython",
    "version": 3
   },
   "file_extension": ".py",
   "mimetype": "text/x-python",
   "name": "python",
   "nbconvert_exporter": "python",
   "pygments_lexer": "ipython3",
   "version": "3.8.3"
  },
  "toc": {
   "base_numbering": 1,
   "nav_menu": {
    "height": "372px",
    "width": "431px"
   },
   "number_sections": true,
   "sideBar": true,
   "skip_h1_title": false,
   "title_cell": "Table of Contents",
   "title_sidebar": "Contents",
   "toc_cell": false,
   "toc_position": {},
   "toc_section_display": true,
   "toc_window_display": false
  }
 },
 "nbformat": 4,
 "nbformat_minor": 2
}
