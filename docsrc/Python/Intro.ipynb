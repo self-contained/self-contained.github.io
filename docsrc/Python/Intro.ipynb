{
 "cells": [
  {
   "cell_type": "markdown",
   "metadata": {},
   "source": [
    "# Python 简介\n",
    "\n",
    "本文介绍了编程语言 [Python](https://www.python.org/)，主要面向 Windows 用户。但 Python 的绝大部分的用法对 macOS 与 Linux 用户也是一样的。"
   ]
  },
  {
   "cell_type": "markdown",
   "metadata": {},
   "source": [
    "## 安装\n",
    "\n",
    "本节介绍 Python 的安装。结论写在前面：建议安装最新或次新的 64 位版本。比如，如果最新的稳定版本是 3.8.x，可以安装该 3.8.x 版本，或者安装 3.7 中版本号最大的稳定版。"
   ]
  },
  {
   "cell_type": "markdown",
   "metadata": {},
   "source": [
    "### 如何选择 Python 版本\n",
    "\n",
    "> 本文只介绍 Python 3。原则上不再推荐使用 Python 2，因为它已于 2020 年 1 月 1 日停止维护。\n",
    "\n",
    "Python 的版本一直在更新，不过对一般用户来说核心功能并没有太大的变化。最近的一次有影响力的改动大概是在 3.6 版本引入了 f-string，并没有对普通用户而言特别大的改动。\n",
    "\n",
    "本文撰写时，使用的 Python 版本是："
   ]
  },
  {
   "cell_type": "code",
   "execution_count": 2,
   "metadata": {},
   "outputs": [
    {
     "output_type": "stream",
     "name": "stdout",
     "text": "Python 3.7.5\n"
    }
   ],
   "source": [
    "!python -V"
   ]
  },
  {
   "cell_type": "markdown",
   "metadata": {},
   "source": [
    "> 注：在本博文中，以“!”开头的命令表示命令行命令（对 Windows 用户来说，即 Powershell）；不带前缀的命令则均是 Python 命令。\n",
    "\n",
    "我始终**建议读者尽量安装最新的 Python 版本**，除非新版本的库尚未跟上。我个人一般推崇的版本选择方式步骤：\n",
    "\n",
    "1. 前往 Python 官网，查看最新的（稳定版的）版本号 `3.x.y`；\n",
    "2. 如果 `y<=1`，建议安装 `3.(x-1)` 版本；如果 `y>=2`，一般认为可以安装该版本 `3.x.y`。\n",
    "\n",
    "例如，如果 Python 最新的版本是 3.8.0，一般来说这时候一些主要的库可能尚未支持 3.8，因此我仍推荐安装 3.7 版本；如果最新的稳定版已经到了 3.8.3，这时候绝大部分的库已经跟上，那么安装 3.8.3 即可。\n",
    "\n",
    "当然，小心总无大错。如果你准备使用一些非常重要的库，请在安装 Python 前先查询这些库支持的 Python 版本。\n",
    "\n",
    "附上 3.8.0~3.8.5 版本 Python 的迭代日期，便于读者对 Python 的稳定版发布间隔有个大致的概念：\n",
    "\n",
    "- 2019.10.19 - Python 3.8.0\n",
    "- 2019.12.18 - Python 3.8.1\n",
    "- 2020.02.24 - Python 3.8.2\n",
    "- 2020.03.10 - Python 3.7.7，这是上个版本的更新\n",
    "- 2020.05.13 - Python 3.8.3\n",
    "- 2020.06.27 - Python 3.7.8，这是上个版本的更新\n",
    "- 2020.07.13 - Python 3.8.4\n",
    "- 2020.07.20 - Python 3.8.5\n",
    "\n",
    "可以看到，越靠后的版本，间隔的时间越短（也越不会包含重要的变化）。我是在初代版本 `3.8.0` 发布后 5 个月（即 2020 年 3 月）转到 3.8.2 的，之前我一直使用的是 3.7.x 的版本。"
   ]
  },
  {
   "cell_type": "markdown",
   "metadata": {},
   "source": [
    "## 如何选择 32 位还是 64 位版本\n",
    "\n",
    "我始终建议安装**64位**版本。有一些库对 32 位版本 Python 的支持并不好（甚至根本不支持），著名的机器学习库 [Pytorch](https://pytorch.org/) 就是一个例子。\n",
    "\n",
    "- 要安装 64 位版本的 Python，请前往[官网下载页面](https://www.python.org/downloads/windows/)，选择其中标有“x86-64”的进行下载。比如，若要安装 3.8.2，可以选择下述三个中的任意一个：\n",
    "    - Download Windows x86-64 embeddable zip file：（不推荐）Zip 版本。\n",
    "    - Download Windows x86-64 executable installer：完整的离线安装文件。\n",
    "    - Download Windows x86-64 web-based installer：在线安装文件，安装时需要连接到互联网。\n",
    "- 如需安装 32 位版本的 Python，对应选择“x86”的条目即可。"
   ]
  }
 ],
 "metadata": {
  "language_info": {
   "codemirror_mode": {
    "name": "ipython",
    "version": 3
   },
   "file_extension": ".py",
   "mimetype": "text/x-python",
   "name": "python",
   "nbconvert_exporter": "python",
   "pygments_lexer": "ipython3",
   "version": "3.7.5-final"
  },
  "orig_nbformat": 2,
  "kernelspec": {
   "name": "python37564bit6edc0e5c1a3f43fbac85f6a1d02152c6",
   "display_name": "Python 3.7.5 64-bit"
  }
 },
 "nbformat": 4,
 "nbformat_minor": 2
}